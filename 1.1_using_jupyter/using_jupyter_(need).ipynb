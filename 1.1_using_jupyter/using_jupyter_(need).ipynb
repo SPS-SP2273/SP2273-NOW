{
 "cells": [
  {
   "cell_type": "markdown",
   "id": "0543a454-0b80-4c63-97df-ed37a3cdfbae",
   "metadata": {},
   "source": [
    "# Lists"
   ]
  },
  {
   "cell_type": "markdown",
   "id": "f621a79e-963f-4fb9-89b8-ef20b7850110",
   "metadata": {},
   "source": [
    "1. Chee onn\n",
    "   1. Hahah\n",
    "   2. hahah\n",
    "   3. hhaha\n",
    "1. Bijaya\n",
    "1. Cham"
   ]
  },
  {
   "cell_type": "markdown",
   "id": "1e042e51-96e6-427f-9ac3-727e97477055",
   "metadata": {},
   "source": [
    "$$\\int x\\; dx = \\dfrac{1}{2}x^2$$"
   ]
  },
  {
   "cell_type": "markdown",
   "id": "9cef1261-ef62-4f3f-bb01-2ce4af5ed515",
   "metadata": {},
   "source": [
    "This is an incline math example $$\\sqrt{b^2-4ac}$$"
   ]
  },
  {
   "cell_type": "code",
   "execution_count": null,
   "id": "cacb470d-862a-4a0e-9e27-0740ffb90350",
   "metadata": {},
   "outputs": [],
   "source": []
  }
 ],
 "metadata": {
  "kernelspec": {
   "display_name": "Python 3 (ipykernel)",
   "language": "python",
   "name": "python3"
  },
  "language_info": {
   "codemirror_mode": {
    "name": "ipython",
    "version": 3
   },
   "file_extension": ".py",
   "mimetype": "text/x-python",
   "name": "python",
   "nbconvert_exporter": "python",
   "pygments_lexer": "ipython3",
   "version": "3.12.3"
  },
  "toc": {
   "base_numbering": 1,
   "nav_menu": {},
   "number_sections": true,
   "sideBar": true,
   "skip_h1_title": false,
   "title_cell": "Table of Contents",
   "title_sidebar": "Contents",
   "toc_cell": false,
   "toc_position": {},
   "toc_section_display": true,
   "toc_window_display": false
  },
  "vscode": {
   "interpreter": {
    "hash": "31f2aee4e71d21fbe5cf8b01ff0e069b9275f58929596ceb00d14d90e3e16cd6"
   }
  }
 },
 "nbformat": 4,
 "nbformat_minor": 5
}
